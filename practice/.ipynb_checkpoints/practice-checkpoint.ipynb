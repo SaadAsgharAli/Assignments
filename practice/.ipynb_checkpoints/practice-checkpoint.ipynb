{
 "cells": [
  {
   "cell_type": "code",
   "execution_count": 1,
   "metadata": {
    "scrolled": true
   },
   "outputs": [
    {
     "name": "stdout",
     "output_type": "stream",
     "text": [
      "Found directory img\n",
      "1.jpg\n",
      "2.jpg\n",
      "2.png\n"
     ]
    }
   ],
   "source": [
    "import os\n",
    "from PIL import Image,ImageOps\n",
    "import numpy as np\n",
    "import matplotlib.pylab as plt\n",
    "\n",
    "for dirName,subdirList,fileList in os.walk('img'):\n",
    "    print('Found directory %s' % dirName)\n",
    "    os.chdir(dirName)\n",
    "    for myfile in fileList:\n",
    "        run =Image.open(myfile)\n",
    "        plt.imshow(run)\n",
    "        print(myfile)"
   ]
  },
  {
   "cell_type": "markdown",
   "metadata": {},
   "source": [
    "# frame.apply will print function values in each column."
   ]
  },
  {
   "cell_type": "code",
   "execution_count": 3,
   "metadata": {},
   "outputs": [],
   "source": [
    "import os\n",
    "from PIL import Image\n",
    "import numpy as np\n",
    "import cv2\n",
    "import matplotlib.pylab as plt\n",
    "\n",
    "lis =[]\n",
    "dirs='img'\n",
    "for dirName,subdirList,fileList in os.walk(dirs):\n",
    "    print('My current directory %s' %dirName)\n",
    "    for files in fileList:\n",
    "        work1 = cv2.imread(files)\n",
    "        lis.append(np.array(work1).shape)\n",
    "        print(plt.imshow(lis))\n"
   ]
  },
  {
   "cell_type": "code",
   "execution_count": 18,
   "metadata": {},
   "outputs": [
    {
     "name": "stdout",
     "output_type": "stream",
     "text": [
      "b    9.0\n",
      "d    9.0\n",
      "e    9.0\n",
      "dtype: float64 <class 'pandas.core.series.Series'>\n"
     ]
    }
   ],
   "source": [
    "import numpy as np\n",
    "import pandas as pd\n",
    "frame = pd.DataFrame(np.arange(12.).reshape((4, 3)),\n",
    "            columns=list('bde'), \n",
    "                     index=['Utah', 'Ohio', 'Texas', 'Oregon'])\n",
    "series = frame.iloc[0]\n",
    "#print(frame)\n",
    "#print(series)\n",
    "def min_max(x):\n",
    "    #minimum = x.min()\n",
    "    #maximum = x.max()\n",
    "    #return pd.Series( [ x.min()-x.max(),x.max() ], index=['min', 'max']) \n",
    "    return (x.max() -x.min())\n",
    "\n",
    "df = frame.apply(min_max)\n",
    "print(df, type(df))"
   ]
  },
  {
   "cell_type": "code",
   "execution_count": null,
   "metadata": {},
   "outputs": [],
   "source": []
  }
 ],
 "metadata": {
  "kernelspec": {
   "display_name": "Python 3",
   "language": "python",
   "name": "python3"
  },
  "language_info": {
   "codemirror_mode": {
    "name": "ipython",
    "version": 3
   },
   "file_extension": ".py",
   "mimetype": "text/x-python",
   "name": "python",
   "nbconvert_exporter": "python",
   "pygments_lexer": "ipython3",
   "version": "3.7.3"
  }
 },
 "nbformat": 4,
 "nbformat_minor": 2
}
